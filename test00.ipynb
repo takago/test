{
 "cells": [
  {
   "cell_type": "code",
   "execution_count": null,
   "metadata": {},
   "outputs": [],
   "source": [
    "%matplotlib inline\n",
    "\n",
    "from numpy import sin,cos,pi,arange,linspace\n",
    "from numpy.random import randn\n",
    "from matplotlib.pyplot import *\n",
    "\n",
    "# 区間[0,10]をN分割\n",
    "N = 100\n",
    "x = linspace( 0, 10, N)\n",
    " \n",
    "# プロットデータy=f(x)\n",
    "y1 = 0.5*sin(2*x)-1.0\n",
    "y2 = sin(x)\n",
    "y3 = cos(x)+randn(len(x))/10\n",
    "y4 = cos(x)\n",
    " \n",
    "# プロットの実行 \n",
    "plot( x, y1 )\n",
    "plot( x, y2,\n",
    "             linestyle='',\n",
    "             marker='o',\n",
    "             markersize=8,\n",
    "             markerfacecolor=[0,1,0],\n",
    "             markeredgecolor=[0,.3,0] )\n",
    "plot( x, y3,\n",
    "             linewidth=2,\n",
    "             color=[1, 0, 0] )\n",
    "plot( x, y4, \n",
    "             linewidth=2,\n",
    "             linestyle='--',\n",
    "             color=[.5, .5, .5] )\n",
    "\n",
    "# グリッドラインを設ける\n",
    "grid( which='both', color=[.75,.75,.75], linestyle='--')\n",
    " \n",
    "# 判例，ラベルの設置\n",
    "legend(['$y=\\dfrac{\\sin(x)}{2}-1$','$y=\\sin(x)$','$y=\\cos(x)$','$y=\\sin^2(x)$'],loc='upper right')\n",
    "xlabel('x')\n",
    "ylabel('y')\n",
    " \n",
    "# 現在の軸オブジェクトを取り出して，変更を施す\n",
    "ax= gca()\n",
    "ax.set_yticks( arange( -1.5, 1.75, 0.25) )\n",
    "ax.set_xticks( arange( 0, 10, pi/2) )\n",
    "ax.set_xticklabels( ['0', 'SUN', 'MON', '-000-', 'zZZ', '(*_*)','HELLO'] )\n",
    "ax.set_xlim( 0, 10)\n",
    "ax.set_ylim( -1.5, 1.5)\n",
    " \n",
    "show(block=False)    # ノンブロックモードで描画"
   ]
  }
 ],
 "metadata": {
  "language_info": {
   "name": "python"
  },
  "orig_nbformat": 4
 },
 "nbformat": 4,
 "nbformat_minor": 2
}
